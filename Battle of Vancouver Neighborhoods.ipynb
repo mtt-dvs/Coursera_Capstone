{
 "cells": [
  {
   "cell_type": "markdown",
   "metadata": {},
   "source": [
    "# IBM Capstone Data Science Project"
   ]
  },
  {
   "cell_type": "markdown",
   "metadata": {},
   "source": [
    "### Table of Contents\n",
    "\n",
    "1. [ Introduction. ](#desc)\n",
    "2. [ Data. ](#data)"
   ]
  },
  {
   "cell_type": "markdown",
   "metadata": {},
   "source": [
    "<a name=\"desc\"></a>\n",
    "## 1. Introduction"
   ]
  },
  {
   "cell_type": "markdown",
   "metadata": {},
   "source": [
    "Vancouver, a bustling west coast seaport in British Columbia, is among Canada’s densest, most ethnically diverse cities. A popular filming location, it’s surrounded by mountains, and also has thriving art, theatre and music scenes. Being such a unique city, it is a very inviting and welcoming city and allows great opportunity to start a new business.\n",
    "\n",
    "This city has seen tremendous growth over the years and does not appear to be slowing down. Given this, land and businesses in this area are becoming exponentially more valuable for investors and aspiring entrepreneurs. This means making effective strategic decisions is more important than ever when selecting new locations for business.\n",
    "\n",
    "This project aims to explore the geographic region and neighborhoods to identify key patterns, insights, and trends to extract actionable business recommendations.\n",
    "\n",
    "The result of this project is not to find the best location for a specific type of business, but rather, for the general entrepreneur to determine where there are gaps and potential opportunities to take advantage of unexploited areas. However, we will be using the Foursquare API to gather data which will be most useful for those in the food, beverage, entertainment, and hospitality sector."
   ]
  },
  {
   "cell_type": "markdown",
   "metadata": {},
   "source": [
    "<a name=\"data\"></a>\n",
    "## 2. Data"
   ]
  },
  {
   "cell_type": "markdown",
   "metadata": {},
   "source": [
    "To analyze trends Vancouvers neighborhoods, the data will be obtained from the 'List of neighborhoods in Vancouver' wikipedia page\n",
    "\n",
    "FourSquare's API will then be used to make venue queries for the city. This data will then be used to observe commonality between neighborhoods. These commonalities will then be used to create clusters that we can use to provide more insights on the patterns between neighborhoods and which types of venues are more common to each area.\n",
    "\n",
    "To create these clustes we will use the K-means clustering algorithm.\n",
    "\n",
    "The data required to conduct this analysis will consist of:\n",
    "1. Neighborhoods of Vancouver\n",
    "2. Latitude and Longitude of these neighborhoods\n",
    "3. Top Venues in region\n",
    "4. Types of venues"
   ]
  },
  {
   "cell_type": "code",
   "execution_count": null,
   "metadata": {},
   "outputs": [],
   "source": []
  }
 ],
 "metadata": {
  "kernelspec": {
   "display_name": "Python",
   "language": "python",
   "name": "conda-env-python-py"
  },
  "language_info": {
   "codemirror_mode": {
    "name": "ipython",
    "version": 3
   },
   "file_extension": ".py",
   "mimetype": "text/x-python",
   "name": "python",
   "nbconvert_exporter": "python",
   "pygments_lexer": "ipython3",
   "version": "3.6.10"
  }
 },
 "nbformat": 4,
 "nbformat_minor": 4
}
